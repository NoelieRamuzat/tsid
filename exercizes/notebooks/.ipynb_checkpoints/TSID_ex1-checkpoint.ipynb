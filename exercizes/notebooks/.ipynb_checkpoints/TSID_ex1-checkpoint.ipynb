{
 "cells": [
  {
   "cell_type": "code",
   "execution_count": 1,
   "metadata": {},
   "outputs": [],
   "source": [
    "import matplotlib.pyplot as plt\n",
    "import numpy as np\n",
    "import numpy.matlib as matlib\n",
    "from numpy import nan\n",
    "from numpy.linalg import norm as norm\n",
    "import os\n",
    "import time as tmp\n",
    "import commands\n",
    "import copy\n",
    "\n",
    "import tsid\n",
    "import pinocchio as pin\n",
    "\n",
    "import sys\n",
    "sys.path.append('..')\n",
    "\n",
    "import plot_utils as plut"
   ]
  },
  {
   "cell_type": "code",
   "execution_count": 2,
   "metadata": {},
   "outputs": [],
   "source": [
    "import gepetto.corbaserver\n"
   ]
  },
  {
   "cell_type": "markdown",
   "metadata": {},
   "source": [
    "## Test Task Space Inverse Dynamics"
   ]
  },
  {
   "cell_type": "code",
   "execution_count": 3,
   "metadata": {},
   "outputs": [],
   "source": [
    "lxp = 0.1                           # foot length in positive x direction\n",
    "lxn = 0.11                          # foot length in negative x direction\n",
    "lyp = 0.069                         # foot length in positive y direction\n",
    "lyn = 0.069                         # foot length in negative y direction\n",
    "lz = 0.107                          # foot sole height with respect to ankle joint\n",
    "mu = 0.3                            # friction coefficient\n",
    "fMin = 5.0                          # minimum normal force\n",
    "fMax = 1500.0                       # maximum normal force\n",
    "\n",
    "rf_frame_name = \"leg_right_6_joint\"          # right foot joint name\n",
    "lf_frame_name = \"leg_left_6_joint\"           # left foot joint name\n",
    "contactNormal = np.matrix([0., 0., 1.]).T    # direction of the normal to the contact surface\n",
    "\n",
    "w_com = 1.0                       # weight of center of mass task\n",
    "w_posture = 0.75                  # weight of joint posture task\n",
    "w_forceRef = 1e-3                 # weight of force regularization task\n",
    "w_waist = 1.0                     # weight of waist task\n",
    "\n",
    "kp_contact = 30.0                 # proportional gain of contact constraint\n",
    "kp_com = 3000.0                   # proportional gain of center of mass task\n",
    "kp_posture = 30.0                 # proportional gain of joint posture task\n",
    "kp_waist = 500.0                  # proportional gain of waist task\n",
    "\n",
    "dt = 0.001                        # controller time step\n",
    "PRINT_N = 500                     # print every PRINT_N time steps\n",
    "DISPLAY_N = 20                    # update robot configuration in viwewer every DISPLAY_N time steps\n",
    "N_SIMULATION = 4000               # number of time steps simulated"
   ]
  },
  {
   "cell_type": "code",
   "execution_count": 4,
   "metadata": {},
   "outputs": [],
   "source": [
    "path = \"/opt/openrobots/share\"\n",
    "urdf = path + '/talos_data/urdf/talos_reduced.urdf'\n",
    "vector = pin.StdVec_StdString()\n",
    "vector.extend(item for item in path)\n",
    "robot = tsid.RobotWrapper(urdf, vector, pin.JointModelFreeFlyer(), False)\n",
    "srdf = path + '/talos_data/srdf/talos.srdf'\n"
   ]
  },
  {
   "cell_type": "code",
   "execution_count": 5,
   "metadata": {},
   "outputs": [],
   "source": [
    "# for gepetto viewer\n",
    "robot_display = pin.RobotWrapper.BuildFromURDF(urdf, [path, ], pin.JointModelFreeFlyer())\n",
    "l = commands.getstatusoutput(\"ps aux |grep 'gepetto-gui'|grep -v 'grep'|wc -l\")\n",
    "if int(l[1]) == 0:\n",
    "    os.system('gepetto-gui &')\n",
    "tmp.sleep(1)\n",
    "cl = gepetto.corbaserver.Client()\n",
    "gui = cl.gui\n",
    "robot_display.initDisplay(loadModel=True)\n"
   ]
  },
  {
   "cell_type": "code",
   "execution_count": 6,
   "metadata": {},
   "outputs": [],
   "source": [
    "#help(pin.loadReferenceConfigurations)\n",
    "#help(robot.model().referenceConfigurations)"
   ]
  },
  {
   "cell_type": "code",
   "execution_count": 7,
   "metadata": {},
   "outputs": [],
   "source": [
    "model = robot.model()\n",
    "pin.loadReferenceConfigurations(model, srdf, False)\n",
    "q = model.referenceConfigurations['half_sitting']\n",
    "v = np.matrix(np.zeros(robot.nv)).T\n"
   ]
  },
  {
   "cell_type": "code",
   "execution_count": 8,
   "metadata": {},
   "outputs": [],
   "source": [
    "robot_display.displayCollisions(False)\n",
    "robot_display.displayVisuals(True)\n",
    "robot_display.display(q)"
   ]
  },
  {
   "cell_type": "code",
   "execution_count": 9,
   "metadata": {},
   "outputs": [],
   "source": [
    "assert model.existFrame(rf_frame_name)\n",
    "assert model.existFrame(lf_frame_name)"
   ]
  },
  {
   "cell_type": "code",
   "execution_count": 10,
   "metadata": {},
   "outputs": [],
   "source": [
    "t = 0.0 # time\n",
    "invdyn = tsid.InverseDynamicsFormulationAccForce(\"tsid\", robot, False)\n",
    "invdyn.computeProblemData(t, q, v)\n",
    "data = invdyn.data()\n",
    "\n",
    "#data_model = model.createData()\n",
    "#pin.forwardKinematics(model, data_model, q)\n",
    "#pin.centerOfMass(model, data_model, q)"
   ]
  },
  {
   "cell_type": "markdown",
   "metadata": {},
   "source": [
    "## Test forceConstraint\n",
    "________________________________________________________________________________________________________________________"
   ]
  },
  {
   "cell_type": "raw",
   "metadata": {},
   "source": [
    "tol = 1e-5\n",
    "m = contactLF.getForceConstraint.rows\n",
    "n = contactLF.getForceConstraint.cols\n",
    "\n",
    "ub = contactLF.getForceConstraint.upperBound\n",
    "lb = contactLF.getForceConstraint.lowerBound\n",
    "A = contactLF.getForceConstraint.matrix\n",
    "inequality = tsid.ConstraintInequality(\"inequality\", A, lb, ub)\n",
    "print ub\n",
    "print lb\n",
    "print A"
   ]
  },
  {
   "cell_type": "raw",
   "metadata": {},
   "source": [
    "assert not inequality.isBound\n",
    "assert not inequality.isEquality\n",
    "assert inequality.isInequality"
   ]
  },
  {
   "cell_type": "raw",
   "metadata": {},
   "source": [
    "assert inequality.rows == m\n",
    "assert inequality.cols == n"
   ]
  },
  {
   "cell_type": "raw",
   "metadata": {},
   "source": [
    "lb *= 2.0\n",
    "assert np.linalg.norm(lb - inequality.lowerBound, 2)is not 0\n",
    "print(np.linalg.norm(lb - inequality.lowerBound, 2))\n",
    "inequality.setLowerBound(lb)\n",
    "\n",
    "assert np.linalg.norm(lb - inequality.lowerBound, 2) < tol"
   ]
  },
  {
   "cell_type": "raw",
   "metadata": {},
   "source": [
    "A *= 2.0\n",
    "assert np.linalg.norm(A - inequality.matrix, 2)is not 0\n",
    "inequality.setMatrix(A) #<-- Not working\n",
    "assert np.linalg.norm(A - inequality.matrix, 2) < tol"
   ]
  },
  {
   "cell_type": "raw",
   "metadata": {},
   "source": [
    "A *= 2.0\n",
    "print np.linalg.norm(A - inequality.matrix, 2)"
   ]
  },
  {
   "cell_type": "markdown",
   "metadata": {},
   "source": [
    "### End Test\n",
    "________________________________________________________________________________________________________________________"
   ]
  },
  {
   "cell_type": "raw",
   "metadata": {},
   "source": [
    "for name, function in contactRF.__class__.__dict__.items():\n",
    "    print(\" \\*\\*\\*\\* \", name, \": \", function.__doc__)"
   ]
  },
  {
   "cell_type": "code",
   "execution_count": 11,
   "metadata": {},
   "outputs": [
    {
     "ename": "AttributeError",
     "evalue": "'module' object has no attribute 'TaskWall'",
     "output_type": "error",
     "traceback": [
      "\u001b[0;31m---------------------------------------------------------------------------\u001b[0m",
      "\u001b[0;31mAttributeError\u001b[0m                            Traceback (most recent call last)",
      "\u001b[0;32m<ipython-input-11-1f87b184b197>\u001b[0m in \u001b[0;36m<module>\u001b[0;34m()\u001b[0m\n\u001b[1;32m     44\u001b[0m \u001b[0;34m\u001b[0m\u001b[0m\n\u001b[1;32m     45\u001b[0m \u001b[0;31m#WALL\u001b[0m\u001b[0;34m\u001b[0m\u001b[0;34m\u001b[0m\u001b[0m\n\u001b[0;32m---> 46\u001b[0;31m \u001b[0mwallTask\u001b[0m \u001b[0;34m=\u001b[0m \u001b[0mtsid\u001b[0m\u001b[0;34m.\u001b[0m\u001b[0mTaskWall\u001b[0m\u001b[0;34m(\u001b[0m\u001b[0;34m\"task-wall\"\u001b[0m\u001b[0;34m,\u001b[0m \u001b[0mrobot\u001b[0m\u001b[0;34m,\u001b[0m \u001b[0mrhJointName\u001b[0m\u001b[0;34m)\u001b[0m\u001b[0;34m\u001b[0m\u001b[0m\n\u001b[0m\u001b[1;32m     47\u001b[0m \u001b[0;31m#print robot.nv\u001b[0m\u001b[0;34m\u001b[0m\u001b[0;34m\u001b[0m\u001b[0m\n\u001b[1;32m     48\u001b[0m \u001b[0;31m#print \"post acc: \" + str(postureTask.getDesiredAcceleration)\u001b[0m\u001b[0;34m\u001b[0m\u001b[0;34m\u001b[0m\u001b[0m\n",
      "\u001b[0;31mAttributeError\u001b[0m: 'module' object has no attribute 'TaskWall'"
     ]
    }
   ],
   "source": [
    "# COM\n",
    "comTask = tsid.TaskComEquality(\"task-com\", robot)\n",
    "comTask.setKp(kp_com * matlib.ones(3).T)\n",
    "comTask.setKd(2.0 * np.sqrt(kp_com) * matlib.ones(3).T)\n",
    "invdyn.addMotionTask(comTask, w_com, 1, 0.0)\n",
    "\n",
    "#print \"com acc: \" + str(comTask.getDesiredAcceleration)\n",
    "\n",
    "# WAIST\n",
    "waistTask = tsid.TaskSE3Equality(\"keepWaist\", robot, 'root_joint')\n",
    "kp = kp_waist * matlib.ones(6).T\n",
    "waistTask.setKp(kp)\n",
    "kd = 2.0 * np.sqrt(kp_waist) * matlib.ones(6).T\n",
    "waistTask.setKd(kd)\n",
    "mask = matlib.ones(6).T\n",
    "mask[:3] = 0.\n",
    "waistTask.setMask(mask)\n",
    "invdyn.addMotionTask(waistTask, w_waist, 1, 0.0)\n",
    "#print \"waist acc: \" + str(waistTask.getDesiredAcceleration)\n",
    "\n",
    "# POSTURE\n",
    "postureTask = tsid.TaskJointPosture(\"task-posture\", robot)\n",
    "postureTask.setKp(kp_posture * matlib.ones(robot.nv-6).T)\n",
    "kd = 2.0 * np.sqrt(kp_posture) * matlib.ones(robot.nv-6).T\n",
    "postureTask.setKd(kd)\n",
    "mask = matlib.ones(robot.nv-6).T\n",
    "mask[:11] = 0.\n",
    "#print(mask)\n",
    "postureTask.mask(mask)\n",
    "#invdyn.addMotionTask(postureTask, w_posture, 1, 0.0)\n",
    "\n",
    "\n",
    "# END EFFECTOR \n",
    "\n",
    "w_eff = 0.9 #weight of end effector task\n",
    "kp_eff = 50.0                     # proportional gain of end effector task\n",
    "\n",
    "rhJointName = \"gripper_right_joint\" #look up in the urdf\n",
    "\n",
    "rhTask = tsid.TaskSE3Equality(\"task-endEffector\", robot, rhJointName)    \n",
    "rhTask.setKp(kp_eff * np.matrix(np.ones(6)).transpose())   \n",
    "rhTask.setKd(2.0 * np.sqrt(kp_eff) * np.matrix(np.ones(6)).transpose()) \n",
    "#invdyn.addMotionTask(rhTask, w_eff, 1, 0.0)\n",
    "\n",
    "#WALL\n",
    "wallTask = tsid.TaskWall(\"task-wall\", robot, rhJointName)\n",
    "#print robot.nv\n",
    "#print \"post acc: \" + str(postureTask.getDesiredAcceleration)"
   ]
  },
  {
   "cell_type": "code",
   "execution_count": 12,
   "metadata": {},
   "outputs": [
    {
     "name": "stdout",
     "output_type": "stream",
     "text": [
      "  R =\n",
      "        1         0         0\n",
      "        0  0.999999  0.001708\n",
      "        0 -0.001708  0.999999\n",
      "  p = -0.00884695      -0.085    0.106998\n",
      "\n"
     ]
    },
    {
     "data": {
      "text/plain": [
       "True"
      ]
     },
     "execution_count": 12,
     "metadata": {},
     "output_type": "execute_result"
    }
   ],
   "source": [
    "# CONTACTS\n",
    "contact_Point = np.matrix(np.ones((3,4)) * lz)\n",
    "contact_Point[0, :] = [-lxn, -lxn, lxp, lxp]\n",
    "contact_Point[1, :] = [-lyn, lyp, -lyn, lyp]\n",
    "#print contact_Point\n",
    "\n",
    "contactRF = tsid.Contact6d(\"contact_rfoot\", robot, rf_frame_name, contact_Point, contactNormal, mu, fMin, fMax)\n",
    "contactRF.setKp(kp_contact * matlib.ones(6).T)\n",
    "contactRF.setKd(2.0 * np.sqrt(kp_contact) * matlib.ones(6).T)\n",
    "H_rf_ref = robot.position(data, model.getJointId(rf_frame_name))\n",
    "print(H_rf_ref)\n",
    "contactRF.setReference(H_rf_ref)\n",
    "invdyn.addRigidContact(contactRF, w_forceRef)\n",
    "\n",
    "contactLF = tsid.Contact6d(\"contact_lfoot\", robot, lf_frame_name, contact_Point, contactNormal, mu, fMin, fMax)\n",
    "contactLF.setKp(kp_contact * matlib.ones(6).T)\n",
    "contactLF.setKd(2.0 * np.sqrt(kp_contact) * matlib.ones(6).T)\n",
    "H_lf_ref = robot.position(data, model.getJointId(lf_frame_name))\n",
    "contactLF.setReference(H_lf_ref)\n",
    "invdyn.addRigidContact(contactLF, w_forceRef)"
   ]
  },
  {
   "cell_type": "raw",
   "metadata": {},
   "source": [
    "contactLFTask = contactLF.getMotionTask\n",
    "print \"contactLF acc: \" + str(contactLFTask.getDesiredAcceleration)\n",
    "\n",
    "contactRFTask = contactRF.getMotionTask\n",
    "print \"contactRF acc: \" + str(contactRFTask.getDesiredAcceleration)"
   ]
  },
  {
   "cell_type": "code",
   "execution_count": 13,
   "metadata": {},
   "outputs": [],
   "source": [
    "def listObjectData(obj):\n",
    "    print(\"Class : \"+str(type(obj)))\n",
    "    members = [attr for attr in dir(obj) if not callable(getattr(obj, attr)) and not attr.startswith(\"__\")]    \n",
    "    print(\"list of members :\")\n",
    "    print members\n",
    "    for m in members:\n",
    "        print(str(m)+\":\")\n",
    "        print(getattr(obj, m) )\n",
    "        \n",
    "        \n",
    "def listObjectFunctions(obj):\n",
    "    print(\"Class : \"+str(type(obj)))\n",
    "    members = [attr for attr in dir(obj) if callable(getattr(obj, attr)) and not attr.startswith(\"__\")]    \n",
    "    print(\"list of functions :\")\n",
    "    print members\n",
    "    for m in members:\n",
    "        print(str(m)+\":\")\n",
    "        print(getattr(obj, m) )\n",
    "\n",
    "def listModelJoints(modelol):\n",
    "    #first we get the number of joints\n",
    "    nbJoints = modelol.getJointId(\"AAAAAAAAAAAAAH\")#getJointId returns the number of joints if the joint asked does not exist\n",
    "    #listObjectFunctions(model) #can be used to list all joints..?\n"
   ]
  },
  {
   "cell_type": "code",
   "execution_count": 14,
   "metadata": {},
   "outputs": [
    {
     "name": "stdout",
     "output_type": "stream",
     "text": [
      "Com ref :\n",
      "[[-0.0031639 ]\n",
      " [ 0.00123738]\n",
      " [ 0.87668139]]\n",
      "End com ref\n",
      "Waist ref :\n",
      "  R =\n",
      "1 0 0\n",
      "0 1 0\n",
      "0 0 1\n",
      "  p =       0       0 1.01927\n",
      "\n",
      "End waist ref\n"
     ]
    }
   ],
   "source": [
    "com_ref = data.com[0]\n",
    "#for i in data_model.com:\n",
    "#    print i\n",
    "\n",
    "print(\"Com ref :\")\n",
    "print com_ref\n",
    "print(\"End com ref\")\n",
    "trajCom = tsid.TrajectoryEuclidianConstant(\"traj_com\", com_ref)\n",
    "\n",
    "q_ref = q[7:]\n",
    "#print len(q_ref)\n",
    "trajPosture = tsid.TrajectoryEuclidianConstant(\"traj_joint\", q_ref)\n",
    "\n",
    "waist_ref = robot.position(data, model.getJointId('root_joint'))\n",
    "print(\"Waist ref :\")\n",
    "print waist_ref\n",
    "print(\"End waist ref\")\n",
    "#listObjectData(waist_ref)\n",
    "\n",
    "trajWaist = tsid.TrajectorySE3Constant(\"traj_waist\", waist_ref)\n",
    "\n",
    "#End effector trajectory\n",
    "#Position que l'on veut donner à la main\n",
    "\n",
    "rh_ref = copy.copy(robot.position(data, model.getJointId(rhJointName))) #on recupere la position de la main\n",
    "#print(\"rh ref :\")\n",
    "#print(rh_ref)\n",
    "#print(\"End rh ref\")\n",
    "#print(rh_ref.translation)\n",
    "\n",
    "#On passe par un truc temporaire parce qu'on peut apparemment pas éditer directement rh_ref.translation\n",
    "temp_translation = rh_ref.translation\n",
    "temp_translation[0]+= 1 #x movement\n",
    "temp_translation[1]+= 0 #y movement\n",
    "temp_translation[2]+= 0 #z movement\n",
    "rh_ref.translation = temp_translation\n",
    "rhdestinationpos = rh_ref.translation\n",
    "\n",
    "trajRh = tsid.TrajectorySE3Constant(\"traj_rh\",rh_ref)"
   ]
  },
  {
   "cell_type": "code",
   "execution_count": 15,
   "metadata": {},
   "outputs": [],
   "source": [
    "# Solver\n",
    "solver = tsid.SolverHQuadProgFast(\"qp solver\")\n",
    "solver.resize(invdyn.nVar, invdyn.nEq, invdyn.nIn)"
   ]
  },
  {
   "cell_type": "code",
   "execution_count": null,
   "metadata": {},
   "outputs": [
    {
     "name": "stdout",
     "output_type": "stream",
     "text": [
      "Time 0.000\n",
      "\tnormal force contact_rfoot.......: 442.8\n",
      "\tnormal force contact_lfoot.......: 442.8\n",
      "\ttracking err task-com............: 0.000\n",
      "\t||v||: 0.000\t ||dv||: 2.083\n",
      "Time 0.500\n",
      "\tnormal force contact_rfoot.......: 442.6\n",
      "\tnormal force contact_lfoot.......: 443.0\n",
      "\ttracking err task-com............: 0.000\n",
      "\t||v||: 1.219\t ||dv||: 2.176\n",
      "Time 1.000\n",
      "\tnormal force contact_rfoot.......: 442.8\n",
      "\tnormal force contact_lfoot.......: 442.8\n",
      "\ttracking err task-com............: 0.000\n",
      "\t||v||: 2.295\t ||dv||: 3.457\n",
      "Time 1.500\n",
      "\tnormal force contact_rfoot.......: 442.2\n",
      "\tnormal force contact_lfoot.......: 443.5\n",
      "\ttracking err task-com............: 0.000\n",
      "\t||v||: 4.500\t ||dv||: 12.873\n",
      "Time 2.000\n",
      "\tnormal force contact_rfoot.......: 453.3\n",
      "\tnormal force contact_lfoot.......: 431.0\n",
      "\ttracking err task-com............: 0.000\n",
      "\t||v||: 15.151\t ||dv||: 98.843\n",
      "Time 2.500\n",
      "\tnormal force contact_rfoot.......: 405.4\n",
      "\tnormal force contact_lfoot.......: 441.9\n",
      "\ttracking err task-com............: 0.000\n",
      "\t||v||: 47.587\t ||dv||: 322.212\n",
      "Time 3.000\n",
      "\tnormal force contact_rfoot.......: 93.6\n",
      "\tnormal force contact_lfoot.......: 93.6\n",
      "\ttracking err task-com............: 0.002\n",
      "\t||v||: 168.453\t ||dv||: 2834.427\n",
      "Time 3.500\n",
      "\tnormal force contact_rfoot.......: 270.7\n",
      "\tnormal force contact_lfoot.......: 270.6\n",
      "\ttracking err task-com............: 0.004\n",
      "\t||v||: 210.255\t ||dv||: 8597.404\n"
     ]
    }
   ],
   "source": [
    "com_pos = matlib.empty((3, N_SIMULATION))*nan\n",
    "com_vel = matlib.empty((3, N_SIMULATION))*nan\n",
    "com_acc = matlib.empty((3, N_SIMULATION))*nan\n",
    "\n",
    "com_pos_ref = matlib.empty((3, N_SIMULATION))*nan\n",
    "com_vel_ref = matlib.empty((3, N_SIMULATION))*nan\n",
    "com_acc_ref = matlib.empty((3, N_SIMULATION))*nan\n",
    "com_acc_des = matlib.empty((3, N_SIMULATION))*nan # acc_des = acc_ref - Kp*pos_err - Kd*vel_err\n",
    "\n",
    "err_x = []\n",
    "err_y = []\n",
    "err_z = []\n",
    "for i in range(0, N_SIMULATION):\n",
    "    time_start = tmp.time()\n",
    "\n",
    "    #compute samples\n",
    "    sampleCom = trajCom.computeNext()\n",
    "    comTask.setReference(trajCom.computeNext())\n",
    "    \n",
    "    samplePosture = trajPosture.computeNext()\n",
    "    postureTask.setReference(samplePosture)\n",
    "    \n",
    "    sampleWaist = trajWaist.computeNext()\n",
    "    waistTask.setReference(sampleWaist)\n",
    "    \n",
    "    sampleRh = trajRh.computeNext()\n",
    "    rhTask.setReference(sampleRh)\n",
    "\n",
    "    HQPData = invdyn.computeProblemData(t, q, v)\n",
    "    # if i == 0: HQPData.print_all()\n",
    "\n",
    "    sol = solver.solve(HQPData)\n",
    "    if(sol.status!=0):\n",
    "        print \"QP problem could not be solved! Error code:\", sol.status\n",
    "        break\n",
    "    \n",
    "    tau = invdyn.getActuatorForces(sol)\n",
    "    dv = invdyn.getAccelerations(sol)\n",
    "    \n",
    "    com_pos[:,i] = robot.com(invdyn.data())\n",
    "    com_vel[:,i] = robot.com_vel(invdyn.data())\n",
    "    com_acc[:,i] = comTask.getAcceleration(dv)\n",
    "    com_pos_ref[:,i] = sampleCom.pos()\n",
    "    com_vel_ref[:,i] = sampleCom.vel()\n",
    "    com_acc_ref[:,i] = sampleCom.acc()\n",
    "    com_acc_des[:,i] = comTask.getDesiredAcceleration\n",
    "\n",
    "    if i%PRINT_N == 0:\n",
    "        print \"Time %.3f\"%(t)\n",
    "        if invdyn.checkContact(contactRF.name, sol):\n",
    "            f = invdyn.getContactForce(contactRF.name, sol)\n",
    "            print \"\\tnormal force %s: %.1f\"%(contactRF.name.ljust(20,'.'),contactRF.getNormalForce(f))\n",
    "\n",
    "        if invdyn.checkContact(contactLF.name, sol):\n",
    "            f = invdyn.getContactForce(contactLF.name, sol)\n",
    "            print \"\\tnormal force %s: %.1f\"%(contactLF.name.ljust(20,'.'),contactLF.getNormalForce(f))\n",
    "# \n",
    "        print \"\\ttracking err %s: %.3f\"%(comTask.name.ljust(20,'.'),       norm(comTask.position_error, 2))\n",
    "        print \"\\t||v||: %.3f\\t ||dv||: %.3f\"%(norm(v, 2), norm(dv))\n",
    "\n",
    "    v_mean = v + 0.5*dt*dv\n",
    "    v += dt*dv\n",
    "    q = pin.integrate(model, q, dt*v_mean)\n",
    "    t += dt\n",
    "    \n",
    "    if i%DISPLAY_N == 0: robot_display.display(q)\n",
    "\n",
    "    rhpos = robot.position(data, model.getJointId(rhJointName)).translation\n",
    "    err_x.append(rhTask.position_error[0,0])\n",
    "    err_y.append(rhTask.position_error[1,0])\n",
    "    err_z.append(rhTask.position_error[2,0])\n",
    "    time_spent = tmp.time() - time_start\n",
    "    if(time_spent < dt): tmp.sleep(dt-time_spent)"
   ]
  },
  {
   "cell_type": "code",
   "execution_count": null,
   "metadata": {
    "scrolled": true
   },
   "outputs": [],
   "source": [
    "# PLOT STUFF\n",
    "time = np.arange(0.0, N_SIMULATION*dt, dt)\n"
   ]
  },
  {
   "cell_type": "code",
   "execution_count": null,
   "metadata": {},
   "outputs": [],
   "source": [
    "(f, ax) = plut.create_empty_figure(3, 1, figsize=(10,10))\n",
    "for i in range(3):\n",
    "    ax[i].plot(time, com_pos[i,:].A1, label='CoM '+str(i))\n",
    "    ax[i].plot(time, com_pos_ref[i,:].A1, 'r:', label='CoM Ref '+str(i))\n",
    "    ax[i].set_xlabel('Time [s]')\n",
    "    ax[i].set_ylabel('CoM [m]')\n",
    "    leg = ax[i].legend()\n",
    "    leg.get_frame().set_alpha(0.5)\n",
    "\n",
    "plt.show()"
   ]
  },
  {
   "cell_type": "code",
   "execution_count": null,
   "metadata": {},
   "outputs": [],
   "source": [
    "(f, ax) = plut.create_empty_figure(3, 1, figsize=(10,10))\n",
    "for i in range(3):\n",
    "    ax[i].plot(time, com_vel[i,:].A1, label='CoM Vel '+str(i))\n",
    "    ax[i].plot(time, com_vel_ref[i,:].A1, 'r:', label='CoM Vel Ref '+str(i))\n",
    "    ax[i].set_xlabel('Time [s]')\n",
    "    ax[i].set_ylabel('CoM Vel [m/s]')\n",
    "    leg = ax[i].legend()\n",
    "    leg.get_frame().set_alpha(0.5)\n",
    "\n",
    "plt.show()\n"
   ]
  },
  {
   "cell_type": "code",
   "execution_count": null,
   "metadata": {},
   "outputs": [],
   "source": [
    "\n",
    "(f, ax) = plut.create_empty_figure(3, 1, figsize=(10,10))\n",
    "for i in range(3):\n",
    "    ax[i].plot(time, com_acc[i,:].A1, label='CoM Acc '+str(i))\n",
    "    ax[i].plot(time, com_acc_ref[i,:].A1, 'r:', label='CoM Acc Ref '+str(i))\n",
    "    ax[i].plot(time, com_acc_des[i,:].A1, 'g--', label='CoM Acc Des '+str(i))\n",
    "    ax[i].set_xlabel('Time [s]')\n",
    "    ax[i].set_ylabel('CoM Acc [m/s^2]')\n",
    "    leg = ax[i].legend()\n",
    "    leg.get_frame().set_alpha(0.5)\n",
    "    \n",
    "plt.show()"
   ]
  },
  {
   "cell_type": "code",
   "execution_count": null,
   "metadata": {},
   "outputs": [],
   "source": [
    "(f, ax) = plut.create_empty_figure(3, 1, figsize=(10,10))\n",
    "ax[0].plot(time, err_y, label='x ')\n",
    "ax[1].plot(time, err_y, label='y')\n",
    "ax[2].plot(time, err_z, label='z')\n",
    "ax[0].set_xlabel('Time [s]')\n",
    "ax[1].set_xlabel('Time [s]')\n",
    "ax[2].set_xlabel('Time [s]')\n",
    "ax[0].set_ylabel('Position error x [m]')\n",
    "ax[1].set_ylabel('Position error y [m]')\n",
    "ax[2].set_ylabel('Position error z [m]')\n",
    "    \n",
    "plt.show()"
   ]
  },
  {
   "cell_type": "code",
   "execution_count": null,
   "metadata": {},
   "outputs": [],
   "source": []
  },
  {
   "cell_type": "code",
   "execution_count": null,
   "metadata": {},
   "outputs": [],
   "source": []
  }
 ],
 "metadata": {
  "kernelspec": {
   "display_name": "Python 2",
   "language": "python",
   "name": "python2"
  },
  "language_info": {
   "codemirror_mode": {
    "name": "ipython",
    "version": 2
   },
   "file_extension": ".py",
   "mimetype": "text/x-python",
   "name": "python",
   "nbconvert_exporter": "python",
   "pygments_lexer": "ipython2",
   "version": "2.7.12"
  }
 },
 "nbformat": 4,
 "nbformat_minor": 2
}
